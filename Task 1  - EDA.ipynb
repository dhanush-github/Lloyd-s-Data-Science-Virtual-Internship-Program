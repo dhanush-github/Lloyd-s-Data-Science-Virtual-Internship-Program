{
 "cells": [
  {
   "cell_type": "markdown",
   "id": "66caf923",
   "metadata": {},
   "source": [
    "## Step 1: Load and Inspect Data"
   ]
  },
  {
   "cell_type": "code",
   "execution_count": null,
   "id": "263637ad",
   "metadata": {},
   "outputs": [],
   "source": [
    "\n",
    "import pandas as pd\n",
    "\n",
    "# Load Excel file\n",
    "file_path = \"Customer_Churn_Data_Large.xlsx\"\n",
    "excel_file = pd.ExcelFile(file_path)\n",
    "\n",
    "# Load sheets\n",
    "demographics_df = excel_file.parse('Customer_Demographics')\n",
    "transactions_df = excel_file.parse('Transaction_History')\n",
    "service_df = excel_file.parse('Customer_Service')\n",
    "activity_df = excel_file.parse('Online_Activity')\n",
    "churn_df = excel_file.parse('Churn_Status')\n",
    "\n",
    "# Preview\n",
    "print(demographics_df.head())\n",
    "print(transactions_df.head())\n"
   ]
  },
  {
   "cell_type": "markdown",
   "id": "98eb437b",
   "metadata": {},
   "source": [
    "## Step 2: Merge All Datasets"
   ]
  },
  {
   "cell_type": "code",
   "execution_count": null,
   "id": "b69551a9",
   "metadata": {},
   "outputs": [],
   "source": [
    "\n",
    "merged_df = churn_df.merge(demographics_df, on='CustomerID', how='left')\n",
    "merged_df = merged_df.merge(activity_df, on='CustomerID', how='left')\n",
    "merged_df = merged_df.merge(service_df, on='CustomerID', how='left')\n",
    "merged_df = merged_df.merge(transactions_df, on='CustomerID', how='left')\n",
    "\n",
    "# Convert date columns\n",
    "merged_df['TransactionDate'] = pd.to_datetime(merged_df['TransactionDate'])\n",
    "merged_df['InteractionDate'] = pd.to_datetime(merged_df['InteractionDate'])\n",
    "merged_df['LastLoginDate'] = pd.to_datetime(merged_df['LastLoginDate'])\n",
    "merged_df.info()\n"
   ]
  },
  {
   "cell_type": "markdown",
   "id": "8637e0ad",
   "metadata": {},
   "source": [
    "## Step 3: Data Cleaning"
   ]
  },
  {
   "cell_type": "code",
   "execution_count": null,
   "id": "9322cf17",
   "metadata": {},
   "outputs": [],
   "source": [
    "\n",
    "merged_df['InteractionType'] = merged_df['InteractionType'].fillna('No Interaction')\n",
    "merged_df['ResolutionStatus'] = merged_df['ResolutionStatus'].fillna('None')\n",
    "merged_df['InteractionID'] = merged_df['InteractionID'].fillna(0)\n",
    "merged_df['InteractionDate'] = merged_df['InteractionDate'].fillna(pd.Timestamp('1900-01-01'))\n"
   ]
  },
  {
   "cell_type": "markdown",
   "id": "338c686f",
   "metadata": {},
   "source": [
    "## Step 4: Encoding and Normalization"
   ]
  },
  {
   "cell_type": "code",
   "execution_count": null,
   "id": "8a3fac95",
   "metadata": {},
   "outputs": [],
   "source": [
    "\n",
    "from sklearn.preprocessing import StandardScaler\n",
    "\n",
    "# Encode categorical\n",
    "encoded_df = pd.get_dummies(merged_df, columns=[\n",
    "    'Gender', 'MaritalStatus', 'IncomeLevel', 'ServiceUsage',\n",
    "    'InteractionType', 'ResolutionStatus', 'ProductCategory'\n",
    "], drop_first=True)\n",
    "\n",
    "# Normalize numeric\n",
    "scaler = StandardScaler()\n",
    "encoded_df[['Age', 'LoginFrequency', 'AmountSpent']] = scaler.fit_transform(\n",
    "    encoded_df[['Age', 'LoginFrequency', 'AmountSpent']]\n",
    ")\n",
    "\n",
    "# Drop unused columns\n",
    "cleaned_df = encoded_df.drop(columns=['CustomerID', 'TransactionID', 'TransactionDate', 'InteractionID', 'InteractionDate', 'LastLoginDate'])\n",
    "cleaned_df.head()\n"
   ]
  },
  {
   "cell_type": "markdown",
   "id": "59d309e1",
   "metadata": {},
   "source": [
    "## Step 5: Exploratory Data Analysis"
   ]
  },
  {
   "cell_type": "code",
   "execution_count": null,
   "id": "e34081d3",
   "metadata": {},
   "outputs": [],
   "source": [
    "\n",
    "import matplotlib.pyplot as plt\n",
    "import seaborn as sns\n",
    "\n",
    "sns.set(style=\"whitegrid\")\n",
    "\n",
    "# Churn count\n",
    "plt.figure(figsize=(6, 4))\n",
    "sns.countplot(data=cleaned_df, x='ChurnStatus')\n",
    "plt.title('Churn Distribution')\n",
    "plt.xlabel('Churn Status (0 = Active, 1 = Churned)')\n",
    "plt.ylabel('Count')\n",
    "plt.tight_layout()\n",
    "plt.show()\n",
    "\n",
    "# Box plots\n",
    "fig, axes = plt.subplots(1, 3, figsize=(18, 5))\n",
    "sns.boxplot(data=cleaned_df, x='ChurnStatus', y='Age', ax=axes[0])\n",
    "sns.boxplot(data=cleaned_df, x='ChurnStatus', y='LoginFrequency', ax=axes[1])\n",
    "sns.boxplot(data=cleaned_df, x='ChurnStatus', y='AmountSpent', ax=axes[2])\n",
    "axes[0].set_title('Age vs Churn')\n",
    "axes[1].set_title('Login Frequency vs Churn')\n",
    "axes[2].set_title('Amount Spent vs Churn')\n",
    "plt.tight_layout()\n",
    "plt.show()\n",
    "\n",
    "# Correlation heatmap\n",
    "plt.figure(figsize=(12, 8))\n",
    "correlation = cleaned_df.corr()\n",
    "sns.heatmap(correlation, cmap='coolwarm', annot=True, fmt='.2f', center=0)\n",
    "plt.title('Feature Correlation Heatmap')\n",
    "plt.tight_layout()\n",
    "plt.show()\n"
   ]
  }
 ],
 "metadata": {},
 "nbformat": 4,
 "nbformat_minor": 5
}
